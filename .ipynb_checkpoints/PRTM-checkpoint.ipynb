{
 "cells": [
  {
   "cell_type": "code",
   "execution_count": 8,
   "id": "b4355626",
   "metadata": {},
   "outputs": [
    {
     "name": "stdout",
     "output_type": "stream",
     "text": [
      "EMAYFNKIIMHYLILGPHYQNHLMINRDAGSCCLSFRCQEYHIQGPPMEYGTGKSTHVGNQKMWRPHIIAAKMQKWTWGAEKGCEAQHFKWSWMVPPMVRWVLQWWQSDDETMKMGTNCYNRGAHHFHYVVTHLLNLKHVTYRPHNARTAVKRQRSWWEMCMSSSRWLSLPYHENNCYKVKFSLFGDAFEYWARPYCMMFWEFGWWNGCRFHCLNPRYNEWYFLAVFIFQVMACDGWQCYLKFQTHYWPLLHQHFNPSNYMNLVDKQRYWEDHSLFRHYKRQTEFNMYWYFAEFECYLFVASYGWSGVVQLPVFHWVITKSWNYQFFGQGHLGEGDWWMYWEHQYCIGWTICIMMNDGWCAAGPYNQWCGPRGLCFAQRTSCHGHCVPKDQCEKDKRCHWKPLFDFHPLKKAPKFKMLAKWRLCAPVWYPMMRAGCVQFNKIISAAFYFSAWALFFKEEHFPPWNCYSRYWFKYQCHWTLSIYCEEDVDWNVQAQSMPRHLMKALAADDRSYNIHYYTPELSGYAFLSRAQMQPTDYDTLGLDKVKVTCDDQAMRPITRWCHWYVCHHTQMISNKHVDFTDLDWTCPYQSMWHPSEPHVPENMGQFQSCFKNNKMVGSHFWNQYCGCQQCDFTIHLNWKHIIWSKYTEVLCFSYQKMMDAVFPCVCNSACETPRNALILNYSCCNLVAFRGMSNPRTVQRVFKHDRDPAWVGVESMVMKVCLMVRSYQAEPEVGYRSIITLGDMAAPWLHCNICHDKCCIMYGIKQQNILGLNWTTFTIPESQGKEALTAQSSYGCMKAILQPPSLYTYEAHCILFCSGYQHWQKFWFITILMHNQPWMFMPFAPPSMHCCIEQSRACPRRRHGPVQYCFTNLIHTKSRTPDRKINPVNNYMNMTYCCLTFANFNQYSGMFWFRQMACSKNT\n"
     ]
    }
   ],
   "source": [
    "with open(\"C:\\\\Users\\\\ABCLAB\\\\Rosalind\\\\data\\\\rosalind_prtm.txt\",'r') as f:\n",
    "    protein_str = f.read().rstrip()\n",
    "print(protein_str)"
   ]
  },
  {
   "cell_type": "code",
   "execution_count": 9,
   "id": "a3c7a718",
   "metadata": {},
   "outputs": [
    {
     "name": "stdout",
     "output_type": "stream",
     "text": [
      "{'A': '71.03711', 'C': '103.00919', 'D': '115.02694', 'E': '129.04259', 'F': '147.06841', 'G': '57.02146', 'H': '137.05891', 'I': '113.08406', 'K': '128.09496', 'L': '113.08406', 'M': '131.04049', 'N': '114.04293', 'P': '97.05276', 'Q': '128.05858', 'R': '156.10111', 'S': '87.03203', 'T': '101.04768', 'V': '99.06841', 'W': '186.07931', 'Y': '163.06333'}\n"
     ]
    }
   ],
   "source": [
    "with open(\"C:\\\\Users\\\\ABCLAB\\\\Rosalind\\\\data\\\\monoisotopic_mass_table.txt\",'r') as f:\n",
    "     line = f.read().split()\n",
    "\n",
    "mass_table = {line[i]:line[i+1] for i in range(0,len(line),2)}\n",
    "print(mass_table)"
   ]
  },
  {
   "cell_type": "code",
   "execution_count": 10,
   "id": "326edf0d",
   "metadata": {},
   "outputs": [
    {
     "name": "stdout",
     "output_type": "stream",
     "text": [
      "110408.47349000041\n"
     ]
    }
   ],
   "source": [
    "weight = 0\n",
    "for i in protein_str:\n",
    "    tmp = mass_table[i]\n",
    "    weight += float(tmp)\n",
    "print(weight)"
   ]
  }
 ],
 "metadata": {
  "kernelspec": {
   "display_name": "Python 3",
   "language": "python",
   "name": "python3"
  },
  "language_info": {
   "codemirror_mode": {
    "name": "ipython",
    "version": 3
   },
   "file_extension": ".py",
   "mimetype": "text/x-python",
   "name": "python",
   "nbconvert_exporter": "python",
   "pygments_lexer": "ipython3",
   "version": "3.8.8"
  }
 },
 "nbformat": 4,
 "nbformat_minor": 5
}
