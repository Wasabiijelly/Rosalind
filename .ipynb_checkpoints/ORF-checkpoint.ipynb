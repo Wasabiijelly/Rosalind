{
 "cells": [
  {
   "cell_type": "code",
   "execution_count": 74,
   "id": "1644bc24",
   "metadata": {},
   "outputs": [
    {
     "name": "stdout",
     "output_type": "stream",
     "text": [
      "AGCCATGTAGCTAACTCAGGTTACATGGGGATGACCCCGCGACTTGGATTAGAGTCTCTTTTGGAATAAGCCTGAATGATCCGAGTAGCATCTCAG\n"
     ]
    }
   ],
   "source": [
    "with open(\"C:\\\\Users\\\\ABCLAB\\\\Rosalind\\\\data\\\\rosalind_orf_1.txt\",'r') as f:\n",
    "    line = f.readlines()\n",
    "    \n",
    "dna = 'AGCCATGTAGCTAACTCAGGTTACATGGGGATGACCCCGCGACTTGGATTAGAGTCTCTTTTGGAATAAGCCTGAATGATCCGAGTAGCATCTCAG'\n",
    "print(dna)"
   ]
  },
  {
   "cell_type": "code",
   "execution_count": 4,
   "id": "4094ce30",
   "metadata": {
    "scrolled": true
   },
   "outputs": [
    {
     "name": "stdout",
     "output_type": "stream",
     "text": [
      "{'UUU': 'F', 'CUU': 'L', 'AUU': 'I', 'GUU': 'V', 'UUC': 'F', 'CUC': 'L', 'AUC': 'I', 'GUC': 'V', 'UUA': 'L', 'CUA': 'L', 'AUA': 'I', 'GUA': 'V', 'UUG': 'L', 'CUG': 'L', 'AUG': 'M', 'GUG': 'V', 'UCU': 'S', 'CCU': 'P', 'ACU': 'T', 'GCU': 'A', 'UCC': 'S', 'CCC': 'P', 'ACC': 'T', 'GCC': 'A', 'UCA': 'S', 'CCA': 'P', 'ACA': 'T', 'GCA': 'A', 'UCG': 'S', 'CCG': 'P', 'ACG': 'T', 'GCG': 'A', 'UAU': 'Y', 'CAU': 'H', 'AAU': 'N', 'GAU': 'D', 'UAC': 'Y', 'CAC': 'H', 'AAC': 'N', 'GAC': 'D', 'UAA': 'Stop', 'CAA': 'Q', 'AAA': 'K', 'GAA': 'E', 'UAG': 'Stop', 'CAG': 'Q', 'AAG': 'K', 'GAG': 'E', 'UGU': 'C', 'CGU': 'R', 'AGU': 'S', 'GGU': 'G', 'UGC': 'C', 'CGC': 'R', 'AGC': 'S', 'GGC': 'G', 'UGA': 'Stop', 'CGA': 'R', 'AGA': 'R', 'GGA': 'G', 'UGG': 'W', 'CGG': 'R', 'AGG': 'R', 'GGG': 'G'}\n"
     ]
    }
   ],
   "source": [
    "with open(\"C:\\\\Users\\\\ABCLAB\\\\Rosalind\\\\data\\\\rna_codon_table.txt\",'r') as f:\n",
    "    codon_table_f = f.read().split()\n",
    "    \n",
    "codon_table = {codon_table_f[i]:codon_table_f[i+1] for i in range(0,len(codon_table_f),2)}\n",
    "#print(codon_table)"
   ]
  },
  {
   "cell_type": "markdown",
   "id": "896528ae",
   "metadata": {},
   "source": [
    "## DNA to RNA"
   ]
  },
  {
   "cell_type": "code",
   "execution_count": 11,
   "id": "5aa152d5",
   "metadata": {
    "scrolled": true
   },
   "outputs": [],
   "source": [
    "def dna_to_rna(dna):\n",
    "    rna = dna.replace('T','U')\n",
    "    return rna"
   ]
  },
  {
   "cell_type": "markdown",
   "id": "a643f9f6",
   "metadata": {},
   "source": [
    "## DNA to reverse complement DNA"
   ]
  },
  {
   "cell_type": "code",
   "execution_count": 19,
   "id": "076106f9",
   "metadata": {},
   "outputs": [],
   "source": [
    "def dna_to_reverse(dna):\n",
    "    s_dna = []\n",
    "    for i in reversed(range(len(dna))):\n",
    "        if dna[i] == 'A':\n",
    "            s_dna.append('T') \n",
    "        elif dna[i] == 'C':\n",
    "            s_dna.append('G') \n",
    "        elif dna[i] == 'T':\n",
    "            s_dna.append('A') \n",
    "        elif dna[i] == 'G':\n",
    "            s_dna.append('C')\n",
    "    \n",
    "    return ''.join(s_dna)"
   ]
  },
  {
   "cell_type": "code",
   "execution_count": 110,
   "id": "f9e4905c",
   "metadata": {},
   "outputs": [],
   "source": [
    "def rna_splices(rna):\n",
    "    start_idx = []\n",
    "    \n",
    "    i=0\n",
    "    while (i < len(rna)) and (len(rna[i:i+3]) == 3):\n",
    "        val = codon_table[rna[i:i+3]]\n",
    "        if val == 'M':\n",
    "            start_idx.append(i)\n",
    "            i += 3\n",
    "        i += 1\n",
    "    \n",
    "    rna_splices = []\n",
    "    i = 0\n",
    "    j = 0\n",
    "    print(start_idx)\n",
    "    for i in start_idx:\n",
    "        j=0\n",
    "        tmp = ''\n",
    "        while (j < len(rna)) and (len(rna[i+j:i+j+3]) == 3):\n",
    "            val = codon_table[rna[i+j:i+j+3]]\n",
    "            j += 3\n",
    "            if val == 'Stop':\n",
    "                break\n",
    "            tmp += val\n",
    "            \n",
    "        rna_splices.append(tmp)\n",
    "    \n",
    "    return rna_splices"
   ]
  },
  {
   "cell_type": "code",
   "execution_count": 20,
   "id": "15fe9359",
   "metadata": {
    "scrolled": true
   },
   "outputs": [
    {
     "name": "stdout",
     "output_type": "stream",
     "text": [
      "AGCCAUGUAGCUAACUCAGGUUACAUGGGGAUGACCCCGCGACUUGGAUUAGAGUCUCUUUUGGAAUAAGCCUGAAUGAUCCGAGUAGCAUCUCAG\n",
      "CUGAGAUGCUACUCGGAUCAUUCAGGCUUAUUCCAAAAGAGACUCUAAUCCAAGUCGCGGGGUCAUCCCCAUGUAACCUGAGUUAGCUACAUGGCU\n"
     ]
    }
   ],
   "source": [
    "rna = dna_to_rna(dna)\n",
    "rev_rna = dna_to_rna(dna_to_reverse(dna))\n",
    "# print(rna)\n",
    "# print(rev_rna)"
   ]
  },
  {
   "cell_type": "code",
   "execution_count": 112,
   "id": "b7de65e6",
   "metadata": {},
   "outputs": [
    {
     "name": "stdout",
     "output_type": "stream",
     "text": [
      "[4, 24, 30, 75]\n",
      "['M', 'MGMTPRLGLESLLE', 'MTPRLGLESLLE', 'MIRVASQ']\n",
      "[5, 70, 90]\n",
      "['MLLGSFRLIPKETLIQVAGSSPCNLS', 'M', 'MA']\n",
      "AUGAUCCGAGUAGCAUCUCAG\n"
     ]
    }
   ],
   "source": [
    "print(rna_splices(rna))\n",
    "print(rna_splices(rev_rna))\n",
    "print(rna[75:])"
   ]
  },
  {
   "cell_type": "code",
   "execution_count": 80,
   "id": "c0d09750",
   "metadata": {},
   "outputs": [
    {
     "name": "stdout",
     "output_type": "stream",
     "text": [
      "['AUG', 'AUGGGGAUGACCCCGCGACUUGGAU', 'AUGACCCCGCGACUUGGAU', 'AUGAUCCGAG']\n",
      "['AUGCUACUCGGAUCAUUCAGGCUUAUUCCAAAAGAGACUC', 'AUG']\n",
      "['AUG', 'AUGGGGAUGACCCCGCGACUUGGAU', 'AUGACCCCGCGACUUGGAU', 'AUGAUCCGAG', 'AUGCUACUCGGAUCAUUCAGGCUUAUUCCAAAAGAGACUC', 'AUG']\n"
     ]
    }
   ],
   "source": [
    "print(rna_splices(rna))\n",
    "print(rna_splices(rev_rna))\n",
    "rna_splice = rna_splices(rna) + rna_splices(rev_rna)\n",
    "print(rna_splice)"
   ]
  },
  {
   "cell_type": "code",
   "execution_count": null,
   "id": "e77f0c6b",
   "metadata": {},
   "outputs": [],
   "source": []
  }
 ],
 "metadata": {
  "kernelspec": {
   "display_name": "Python 3",
   "language": "python",
   "name": "python3"
  },
  "language_info": {
   "codemirror_mode": {
    "name": "ipython",
    "version": 3
   },
   "file_extension": ".py",
   "mimetype": "text/x-python",
   "name": "python",
   "nbconvert_exporter": "python",
   "pygments_lexer": "ipython3",
   "version": "3.8.8"
  }
 },
 "nbformat": 4,
 "nbformat_minor": 5
}
