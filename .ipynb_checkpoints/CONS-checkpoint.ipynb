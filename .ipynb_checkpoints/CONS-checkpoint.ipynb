{
 "cells": [
  {
   "cell_type": "code",
   "execution_count": 4,
   "id": "34527e02",
   "metadata": {},
   "outputs": [],
   "source": [
    "import pandas as pd"
   ]
  },
  {
   "cell_type": "code",
   "execution_count": 132,
   "id": "6611fade",
   "metadata": {},
   "outputs": [],
   "source": [
    "with open(\"C:\\\\Users\\\\ABCLAB\\\\Rosalind\\\\data\\\\rosalind_cons.txt\",'r') as f:\n",
    "    line = f.read().split()\n",
    "\n",
    "id_idx = [i for i in range(len(line)) if line[i][0] == '>']\n",
    "dna_str = []\n",
    "\n",
    "for i in range(len(id_idx)-1):\n",
    "    dna_str.append(''.join(line[id_idx[i]+1:id_idx[i+1]]))\n",
    " \n",
    "dna_str.append(''.join(line[id_idx[i+1]+1:]))\n",
    "\n",
    "sample_id = [line[i].strip('>') for i in id_idx]\n",
    "#print(dna_str)"
   ]
  },
  {
   "cell_type": "code",
   "execution_count": 133,
   "id": "eea6109a",
   "metadata": {},
   "outputs": [
    {
     "name": "stdout",
     "output_type": "stream",
     "text": [
      "  0   1   2   3   4   5   6   7   8   9    ... 893 894 895 896 897 898 899  \\\n",
      "0   T   A   G   G   A   A   G   T   G   A  ...   T   C   A   A   G   C   T   \n",
      "1   G   C   C   G   G   G   C   G   C   T  ...   C   C   C   C   C   T   A   \n",
      "2   G   T   T   C   T   A   T   G   A   A  ...   A   A   G   A   G   G   A   \n",
      "3   G   C   T   C   G   T   A   G   A   C  ...   T   C   T   A   G   G   A   \n",
      "4   G   A   C   A   C   C   C   T   T   C  ...   T   A   T   A   A   G   T   \n",
      "5   G   C   G   G   G   G   G   C   C   T  ...   A   G   C   G   T   G   G   \n",
      "6   T   G   G   A   T   C   C   C   C   C  ...   G   A   C   G   C   G   T   \n",
      "7   G   C   C   A   T   A   C   T   A   T  ...   A   T   G   G   G   G   G   \n",
      "8   C   T   A   G   C   T   G   T   A   A  ...   T   G   G   C   G   G   G   \n",
      "9   C   C   G   T   T   C   C   C   A   C  ...   G   A   C   C   C   T   G   \n",
      "\n",
      "  900 901 902  \n",
      "0   C   C   T  \n",
      "1   C   G   C  \n",
      "2   T   A   T  \n",
      "3   G   C   G  \n",
      "4   G   G   A  \n",
      "5   C   A   T  \n",
      "6   G   T   A  \n",
      "7   A   C   G  \n",
      "8   T   C   C  \n",
      "9   C   T   T  \n",
      "\n",
      "[10 rows x 903 columns]\n"
     ]
    }
   ],
   "source": [
    "dna_str_split = [[]]\n",
    "\n",
    "for i in range(len(dna_str)):\n",
    "    for j in dna_str[i]:\n",
    "        dna_str_split[i].append(j)\n",
    "    dna_str_split.append([])\n",
    "dna_str_split = dna_str_split[:-1]\n",
    "\n",
    "df = pd.DataFrame(dna_str_split)\n",
    "print(df)"
   ]
  },
  {
   "cell_type": "code",
   "execution_count": 134,
   "id": "74edff5f",
   "metadata": {},
   "outputs": [],
   "source": [
    "a = []\n",
    "c = []\n",
    "g = []\n",
    "t = []\n",
    "\n",
    "for i in range(len(df.columns)):\n",
    "    a.append(list(df.iloc[:,i]).count('A'))\n",
    "    c.append(list(df.iloc[:,i]).count('C'))\n",
    "    g.append(list(df.iloc[:,i]).count('G'))\n",
    "    t.append(list(df.iloc[:,i]).count('T'))"
   ]
  },
  {
   "cell_type": "code",
   "execution_count": 135,
   "id": "47d90f4d",
   "metadata": {},
   "outputs": [],
   "source": [
    "acgt = [a,c,g,t]\n",
    "acgt_df = pd.DataFrame(acgt,index = ['A','C','G','T'])"
   ]
  },
  {
   "cell_type": "code",
   "execution_count": 136,
   "id": "b4063e53",
   "metadata": {},
   "outputs": [],
   "source": [
    "consensus = acgt_df.idxmax(axis = 0)"
   ]
  },
  {
   "cell_type": "code",
   "execution_count": 137,
   "id": "3d6b691b",
   "metadata": {
    "collapsed": true
   },
   "outputs": [
    {
     "name": "stdout",
     "output_type": "stream",
     "text": [
      "GCGGTACTACAAGACCCCCAAGAACCCCTCAGGTGGACAATAATTAGCCAAGGAAGTGTTAGGCAACAGATGTGACCGGGAAAATACCTTCTCCCCGATAAATCTCGCGTCATCCAAGAAACGCCTAACATCCTACCCAAAGCCTGGTCGACATCGGTTGGGATGGTGGGAAAGCAACACCGAACAACAAACCAACAGTACCTGCGAGGCTACCAGTTTTGGGGCGAGTGCATCATGGAAGCACCCCTTATACCAATCATGTCAATAAACAAGAACACATGACATCGAAAACAGCTCCAGAAGCCCTGACTGGCTTCGTAGCAGGACGGTAATCAACGGCGACGAGGGTGGGCGCCAAACACATGCGAGAAAAACGCACCGACATCTAGTCATACCGTGTAGCTGTACATCATACCGAAAAAGCAGATAGACGCTTACGCAAGGACCGAGAGCTAGCAATCTAGATAGTCGAATCACCAAAGAAGATAACGCGGTCAGAAGGTCAATCGCACTCGACACACCCGACACTATACTTTCAAGCCAATCTAGGGAACGAAGGTAATCGCGGATTATAATTTAGAATCCAAAGCGACAGCCTACCACATATGGACCAGGCGCCTCGGGGGTGTATGAGTCGAGATAAAATCCGTATACTGGAGCGTGGGCGAAAGGTTCTCGCGACCACCGCCAGCAATCAACTGCACCTTAACAACAACGGATCAAAAAAAGGAGTAGGAGCTCGGTCCGAGCAAAACTAAACTGCAAAAGCTATGAAAGCAGGGAGCACAATTGTGTCATGTCGTATCGGAGTTACGCGCGACTCGAAAAAATTCGCAACAAGTCACCGAGAGAAGGAGATTAGGCTCATCATACCAGCACTACCCAGAAGCGGTTACAGGGCCT\n",
      "A: 0 2 1 3 1 3 1 0 5 3 5 4 2 5 1 2 1 1 2 4 3 3 3 4 3 3 0 1 3 1 3 2 2 2 2 2 3 2 5 3 1 3 4 2 1 4 1 0 0 5 4 1 1 4 4 2 3 2 2 1 3 0 1 2 4 5 2 4 2 3 2 3 2 2 3 2 3 4 3 1 4 5 4 6 3 4 1 0 1 2 2 0 1 2 3 2 2 4 1 3 4 4 0 2 3 2 2 1 2 1 1 5 3 0 2 6 4 1 4 3 4 1 1 1 4 0 4 4 2 4 1 1 2 3 5 3 1 3 5 5 4 1 2 2 2 0 2 1 2 2 4 2 4 2 2 2 2 2 2 1 2 0 3 2 3 2 1 2 3 0 6 3 3 2 0 3 4 2 5 2 3 2 5 4 1 3 3 3 3 3 3 0 2 3 4 1 4 0 3 5 0 3 1 2 1 2 4 1 0 2 2 5 2 3 3 1 2 1 1 3 2 2 1 2 3 3 3 2 3 2 2 3 2 2 3 0 2 3 5 3 1 2 3 1 1 3 4 0 2 4 2 3 1 2 3 4 3 1 4 3 2 1 2 3 3 1 4 4 5 2 3 4 2 3 3 1 3 2 4 2 2 5 2 3 3 2 3 4 3 3 5 1 4 0 1 1 2 3 5 1 4 4 3 1 2 0 0 3 5 1 3 0 2 1 3 1 2 2 1 5 2 2 4 2 2 3 2 2 2 2 3 6 3 2 3 3 2 2 2 2 1 3 3 0 4 2 2 4 3 2 1 3 1 1 2 2 3 4 5 2 5 2 3 3 2 1 2 3 0 4 3 3 3 4 1 2 4 3 2 2 3 3 0 4 2 3 3 4 2 4 2 4 4 5 2 0 2 2 3 1 4 1 3 2 3 3 4 1 5 2 0 4 3 4 1 3 1 5 7 3 4 4 3 1 3 2 4 2 5 2 5 2 1 2 1 1 3 2 3 2 3 4 2 3 3 2 2 3 6 1 3 1 1 2 4 2 1 4 6 1 2 2 3 1 3 3 3 1 2 1 1 3 3 3 2 4 0 2 4 4 4 2 4 5 3 3 1 4 5 1 1 2 1 2 1 3 4 3 3 3 2 3 3 3 4 3 1 2 1 2 5 3 1 2 2 5 2 4 2 4 2 2 1 2 3 1 5 1 2 5 2 6 2 2 1 2 2 4 3 3 1 2 3 3 2 2 1 4 3 2 2 4 3 2 2 4 3 1 2 1 4 3 2 1 2 1 1 3 3 2 1 4 0 5 5 2 1 1 4 1 5 5 3 2 2 4 3 5 3 2 3 3 1 3 2 1 2 2 3 2 1 4 0 5 2 4 0 0 1 4 1 3 4 2 2 1 1 3 1 2 3 2 3 3 1 2 1 1 1 4 2 1 3 2 3 3 1 4 2 3 3 3 5 4 4 3 2 0 2 4 7 1 5 2 3 2 3 4 3 3 2 3 1 1 2 1 2 6 4 4 3 1 1 2 3 2 2 3 1 2 4 3 2 6 2 2 1 2 2 5 2 2 3 4 2 3 6 4 3 3 2 1 4 2 1 2 2 3 3 2 5 3 3 3 3 2 2 2 3 2 1 5 4 3 4 3 5 5 2 2 5 1 2 4 2 1 7 3 2 2 3 0 2 2 1 1 2 4 2 2 8 3 4 5 2 3 3 3 4 0 1 2 2 5 4 3 4 2 1 1 3 3 3 3 4 4 1 2 3 1 3 2 4 3 2 5 1 3 4 0 3 3 2 2 3 3 4 3 2 1 3 1 2 3 1 2 3 4 5 3 2 2 3 2 2 2 2 1 1 3 2 2 1 1 4 5 3 5 4 4 3 1 0 1 1 4 4 1 3 3 2 3 2 5 1 2 2 4 0 3 0 4 4 1 2 3 3 4 3 0 3 3 2 1 1 2 4 3 2 4 0 3 0 2 4 0 1 3 2 2 4 2 2 2 4 3 5 5 1 3 2 1 2 3 4 1 4 1 0 3 1 2 2\n",
      "C: 2 5 3 2 2 3 5 3 3 4 1 2 2 1 3 3 5 5 4 2 2 1 1 2 4 5 5 4 1 4 3 1 2 2 3 2 3 4 1 2 2 2 1 3 3 1 2 4 5 1 1 3 2 1 2 1 2 2 2 3 3 2 3 4 1 3 4 3 1 3 1 1 2 1 3 3 5 1 2 3 2 1 1 2 2 3 3 5 2 2 3 1 3 3 4 4 0 3 3 3 2 3 2 4 3 4 2 3 3 2 4 1 0 4 3 3 3 2 3 3 1 4 2 4 5 2 2 1 5 2 3 4 4 3 2 4 5 5 2 0 3 3 4 3 1 0 2 3 3 2 4 4 2 0 4 2 2 3 3 1 3 2 2 2 0 2 3 2 2 4 1 3 1 2 4 3 1 5 4 4 5 1 2 1 6 2 2 4 3 2 1 4 5 2 2 3 3 2 2 1 6 4 2 1 4 2 1 2 1 3 1 1 3 5 3 2 2 3 2 2 1 2 2 2 4 0 1 2 1 2 5 3 1 4 3 3 2 2 3 2 2 3 3 4 5 6 5 3 2 4 3 3 6 3 2 3 1 4 2 0 0 3 3 3 2 1 2 0 3 4 2 1 2 1 3 5 3 4 4 3 2 1 6 3 2 4 1 2 1 3 1 4 2 1 4 3 4 4 0 3 1 1 3 3 4 9 3 2 0 4 3 2 2 5 1 2 3 2 2 4 2 4 2 2 3 2 3 1 2 1 3 2 1 4 3 2 5 2 2 3 2 1 4 0 2 2 3 1 0 1 3 2 5 1 3 4 2 3 1 4 1 3 1 0 2 4 2 2 3 1 2 3 2 2 5 2 5 3 4 3 0 3 5 3 3 5 0 2 2 1 3 3 0 3 4 6 0 2 2 1 2 3 4 3 2 0 1 5 2 2 6 2 1 2 5 5 2 3 2 2 2 3 1 4 2 2 2 3 0 1 1 4 2 4 3 2 3 3 1 6 2 2 1 0 3 4 3 2 0 2 1 3 4 1 1 0 6 2 1 2 3 3 2 2 2 3 1 2 1 4 3 3 3 2 5 2 4 4 2 2 3 1 3 1 1 3 2 1 0 3 2 4 1 2 0 4 1 3 3 3 3 0 1 4 4 3 1 3 1 4 1 4 3 4 3 1 5 2 4 0 4 3 3 0 2 4 2 3 1 2 2 2 4 2 3 3 4 4 2 1 3 4 2 3 2 4 1 1 1 2 2 1 2 3 2 3 3 4 2 2 1 3 3 5 1 4 2 2 2 3 2 1 1 1 2 2 2 0 2 3 2 1 2 6 3 2 2 1 1 4 0 2 4 2 1 4 3 2 2 5 3 2 4 3 1 2 3 4 1 2 3 4 1 1 3 3 2 4 3 3 4 0 2 1 2 3 1 1 0 2 3 2 2 1 2 4 2 2 2 2 2 3 3 2 3 1 4 4 2 1 0 2 1 4 2 1 0 1 1 5 2 3 3 3 3 4 2 0 2 2 0 2 3 3 4 0 4 0 4 2 4 4 3 0 4 4 3 5 4 2 2 4 1 2 2 4 2 1 4 3 2 3 2 3 5 2 1 1 3 4 0 1 4 2 3 5 2 2 2 3 5 3 1 3 1 2 1 2 0 2 2 2 2 2 3 3 0 1 5 2 4 3 1 0 4 3 1 4 2 5 0 1 1 0 3 2 2 2 3 4 2 1 4 3 1 2 1 2 5 2 1 2 1 3 2 1 1 3 3 1 3 2 3 2 3 2 5 3 2 2 1 1 3 1 2 4 2 2 0 3 6 1 1 2 3 3 1 0 0 1 2 1 1 4 2 6 2 4 3 2 4 2 4 2 2 3 3 1 4 3 0 2 4 1 5 3 1 4 2 2 2 1 5 2 4 4 2 2 3 1 4 2 2 0 3 3 1 2 2 2 3 1 1 3 0 4 1 1 4 3 2 3 5 5 3 3 4 2 3 1 1 4 4 3 3 2 2 2 1 4 2 3 2 1 3 4 3 3 1 0 4 4 2\n",
      "G: 6 1 4 4 3 2 3 3 1 0 1 3 3 2 3 2 2 3 0 0 3 5 3 1 1 1 1 2 1 2 2 5 4 2 4 3 2 3 3 3 2 3 2 1 2 1 4 3 2 4 2 5 4 3 3 4 1 3 2 1 3 4 5 3 2 2 1 0 5 2 0 4 1 4 3 2 2 5 4 4 0 2 3 1 1 2 3 3 2 2 3 2 3 3 0 3 6 1 2 2 1 2 3 2 0 1 5 3 4 3 2 3 3 3 2 0 2 4 1 2 2 3 5 2 0 3 2 2 2 3 2 1 1 0 0 0 3 1 3 4 2 5 2 3 3 5 4 1 3 3 0 4 2 3 3 4 5 1 1 4 4 6 2 2 6 3 2 3 4 5 2 2 3 3 2 2 1 1 1 3 1 6 2 3 2 2 3 1 2 3 3 3 2 3 3 3 1 4 1 1 2 3 3 4 3 5 2 5 6 3 3 2 2 2 3 4 1 2 3 1 4 5 4 3 1 4 3 5 2 5 2 1 2 2 1 3 3 5 2 2 5 3 1 3 1 1 1 3 2 2 1 3 1 2 3 2 2 3 1 2 5 2 2 2 2 2 3 4 1 2 2 3 3 3 2 3 2 2 1 1 5 1 1 3 1 1 4 2 3 3 4 2 3 5 2 2 3 0 1 5 3 2 4 3 2 1 3 5 2 4 0 4 3 2 2 2 3 4 3 1 3 2 3 4 4 3 2 5 3 2 3 0 1 1 3 2 1 3 3 3 5 3 2 8 0 4 4 5 2 5 4 4 2 5 3 2 2 1 3 2 2 3 3 2 3 2 3 3 4 2 3 1 2 1 1 3 0 3 2 3 4 2 3 1 0 2 1 3 5 0 2 3 1 2 3 3 5 2 4 3 2 4 0 1 5 3 4 2 2 2 1 0 2 3 2 1 5 1 0 3 3 2 4 2 2 5 3 1 2 6 3 1 6 0 2 2 2 2 4 2 3 2 4 6 3 2 3 4 3 6 3 4 2 3 1 5 1 3 1 3 3 1 2 4 2 0 3 4 3 4 4 2 2 1 1 2 4 3 4 1 0 5 1 1 4 2 3 1 1 3 5 0 5 3 3 1 2 4 2 3 5 4 1 3 0 3 1 2 4 2 1 1 2 4 4 1 1 3 3 3 1 2 3 5 3 1 2 3 3 0 1 1 1 2 2 1 3 1 3 4 3 2 3 1 2 2 2 3 5 4 3 3 2 2 3 1 2 5 5 3 2 1 0 3 4 2 5 4 2 1 3 2 3 2 1 2 3 3 3 4 2 3 1 1 2 3 3 4 4 2 6 2 2 3 6 2 3 1 2 1 3 1 3 1 3 3 2 5 4 3 3 2 2 5 4 3 4 0 3 1 1 4 4 4 4 4 3 6 4 4 1 4 3 4 1 2 4 2 3 2 0 1 2 2 2 2 1 2 3 0 2 3 4 1 1 4 5 3 4 1 3 0 4 5 4 3 3 2 2 1 5 4 1 1 2 2 2 7 2 5 0 2 3 4 2 3 4 2 3 2 4 3 3 1 2 1 1 2 2 0 4 3 1 2 1 2 3 3 2 3 3 3 2 2 2 2 5 4 2 1 2 2 3 1 4 3 2 1 7 3 0 4 1 3 4 4 1 4 1 1 2 4 4 1 4 3 6 0 3 1 1 3 3 2 2 1 3 3 1 2 2 5 1 1 1 2 2 3 2 2 3 1 4 1 3 1 4 3 1 4 4 3 1 4 2 1 2 1 4 3 2 5 1 4 1 0 2 1 4 1 1 6 3 3 2 2 4 5 1 4 1 2 3 1 3 0 3 3 4 3 2 2 2 4 1 1 3 3 0 2 3 3 2 4 1 2 3 2 3 3 5 2 2 2 1 2 4 1 4 3 5 3 2 6 4 2 5 2 0 3 1 4 4 3 4 2 4 1 3 0 2 3 2 1 1 5 2 2 3 1 3 2 3 3 1 4 0 2 4 3 3 4 2 2 2 3 3 5 7 4 3 2 2\n",
      "T: 2 2 2 1 4 2 1 4 1 3 3 1 3 2 3 3 2 1 4 4 2 1 3 3 2 1 4 3 5 3 2 2 2 4 1 3 2 1 1 2 5 2 3 4 4 4 3 3 3 0 3 1 3 2 1 3 4 3 4 5 1 4 1 1 3 0 3 3 2 2 7 2 5 3 1 3 0 0 1 2 4 2 2 1 4 1 3 2 5 4 2 7 3 2 3 1 2 2 4 2 3 1 5 2 4 3 1 3 1 4 3 1 4 3 3 1 1 3 2 2 3 2 2 3 1 5 2 3 1 1 4 4 3 4 3 3 1 1 0 1 1 1 2 2 4 5 2 5 2 3 2 0 2 5 1 2 1 4 4 4 1 2 3 4 1 3 4 3 1 1 1 2 3 3 4 2 4 2 0 1 1 1 1 2 1 3 2 2 2 2 3 3 1 2 1 3 2 4 4 3 2 0 4 3 2 1 3 2 3 2 4 2 3 0 1 3 5 4 4 4 3 1 3 3 2 3 3 1 4 1 1 3 5 2 3 4 3 0 0 3 2 2 3 2 3 0 0 4 4 0 4 1 2 3 2 1 4 2 3 5 3 4 3 2 3 6 1 2 1 2 3 2 3 3 2 1 2 2 1 4 1 3 1 1 4 3 2 2 3 1 0 3 1 4 3 4 1 3 4 1 2 3 0 3 2 0 4 0 3 1 4 4 3 2 4 5 2 2 4 0 3 2 1 2 1 2 3 2 3 5 1 2 5 3 1 3 2 3 3 2 2 3 1 2 4 2 1 0 5 2 2 1 2 3 2 2 3 2 1 2 2 2 3 5 3 3 3 2 3 3 2 3 3 3 3 3 1 1 2 2 3 2 2 2 5 0 6 1 1 5 3 0 5 0 1 1 3 4 1 5 2 2 3 4 0 4 1 2 1 4 3 4 4 1 2 1 2 1 1 2 1 1 2 3 3 1 1 4 3 1 1 3 1 4 4 5 2 3 2 0 2 2 3 1 1 2 2 1 1 1 3 2 3 4 4 3 2 1 2 4 2 4 3 3 3 4 3 3 4 1 2 2 2 4 2 2 2 1 0 3 3 2 2 3 2 2 4 4 4 3 2 4 3 3 6 2 3 0 2 1 0 3 5 0 2 1 7 3 4 2 3 2 4 0 1 3 2 1 1 3 3 3 3 3 2 4 1 3 4 3 5 1 3 4 4 4 1 1 2 2 3 2 2 3 4 2 6 2 1 2 3 2 3 3 3 2 2 0 1 4 3 3 5 1 3 3 2 1 3 4 4 3 6 2 2 4 4 6 1 2 1 1 4 1 3 1 2 0 2 2 1 3 3 2 1 3 2 5 3 2 3 3 3 1 4 1 5 1 4 1 3 1 3 2 1 3 3 3 3 4 2 4 1 2 3 1 5 2 5 0 4 3 2 3 4 1 3 2 3 3 5 3 0 2 1 4 3 4 3 5 1 4 0 3 4 3 2 2 2 1 3 4 2 1 1 2 3 2 2 3 2 3 5 4 1 6 2 0 3 1 2 1 2 0 2 1 2 1 1 1 2 1 3 3 4 2 1 3 1 4 2 3 3 3 3 4 4 3 2 1 2 3 1 3 2 1 1 2 3 4 2 0 2 3 1 2 2 2 1 3 3 3 5 1 1 2 2 2 2 5 1 3 3 7 1 3 1 2 3 2 1 3 2 3 3 4 2 2 2 4 5 2 3 1 4 3 3 3 2 5 3 4 2 3 1 4 4 2 3 4 0 3 2 1 3 2 2 3 0 5 4 1 4 3 4 3 2 4 4 5 0 2 4 2 4 3 2 1 4 2 5 5 3 3 3 2 3 2 2 2 2 4 3 3 3 1 1 1 2 1 4 4 4 4 3 1 2 3 2 2 1 4 1 1 4 2 2 3 3 3 1 1 2 3 1 2 1 2 5 5 3 2 3 3 5 2 1 5 1 3 6 1 3 2 2 2 3 3 2 6 2 2 1 2 2 1 3 1 4 0 3 2 4 4 1 2 0 1 2 3 2 2 4\n"
     ]
    }
   ],
   "source": [
    "print(\"\".join(list(consensus)))\n",
    "\n",
    "for i in range(len(acgt_df.index)):\n",
    "    print(acgt_df.index.values[i]+': ',end = '')\n",
    "    for j in range(len(acgt_df.columns)-1):\n",
    "        print(acgt_df.iat[i,j],end = ' ')\n",
    "    print(acgt_df.iat[i,j+1])"
   ]
  }
 ],
 "metadata": {
  "kernelspec": {
   "display_name": "Python 3",
   "language": "python",
   "name": "python3"
  },
  "language_info": {
   "codemirror_mode": {
    "name": "ipython",
    "version": 3
   },
   "file_extension": ".py",
   "mimetype": "text/x-python",
   "name": "python",
   "nbconvert_exporter": "python",
   "pygments_lexer": "ipython3",
   "version": "3.8.8"
  }
 },
 "nbformat": 4,
 "nbformat_minor": 5
}
