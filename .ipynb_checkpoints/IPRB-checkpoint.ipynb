{
 "cells": [
  {
   "cell_type": "code",
   "execution_count": 20,
   "id": "0cdf4ae2",
   "metadata": {},
   "outputs": [
    {
     "name": "stdout",
     "output_type": "stream",
     "text": [
      "['21', '26', '30']\n"
     ]
    }
   ],
   "source": [
    "with open(\"C:\\\\Users\\\\ABCLAB\\\\Rosalind\\\\data\\\\rosalind_iprb.txt\",'r') as f:\n",
    "    line = f.readline()\n",
    "\n",
    "line = (line.strip()).split(' ')\n",
    "print(line)"
   ]
  },
  {
   "cell_type": "code",
   "execution_count": 21,
   "id": "47edd94d",
   "metadata": {},
   "outputs": [
    {
     "name": "stdout",
     "output_type": "stream",
     "text": [
      "21 26 30\n"
     ]
    }
   ],
   "source": [
    "k = int(line[0])\n",
    "m = int(line[1])\n",
    "n = int(line[2])\n",
    "\n",
    "print(k, m, n)"
   ]
  },
  {
   "cell_type": "code",
   "execution_count": null,
   "id": "97c5bd38",
   "metadata": {},
   "outputs": [],
   "source": [
    "total = k+m+n"
   ]
  },
  {
   "cell_type": "code",
   "execution_count": 14,
   "id": "234f5a41",
   "metadata": {},
   "outputs": [
    {
     "name": "stdout",
     "output_type": "stream",
     "text": [
      "0.1486671223513329\n"
     ]
    }
   ],
   "source": [
    "# aa x aa\n",
    "case_1 = n/total * (n-1)/(total-1) \n",
    "\n",
    "# Aa x aa\n",
    "case_2 = ((m/total) * (n/(total-1))) * 2 * 2/4\n",
    "\n",
    "# Aa x Aa\n",
    "case_3 = m/total * (m-1)/(total-1) * 1/4"
   ]
  },
  {
   "cell_type": "code",
   "execution_count": 17,
   "id": "8131c719",
   "metadata": {},
   "outputs": [
    {
     "name": "stdout",
     "output_type": "stream",
     "text": [
      "0.6902768284347232\n"
     ]
    }
   ],
   "source": [
    "result = 1 - (case_1 + case_2 + case_3)\n",
    "\n",
    "print(result)"
   ]
  }
 ],
 "metadata": {
  "kernelspec": {
   "display_name": "Python 3",
   "language": "python",
   "name": "python3"
  },
  "language_info": {
   "codemirror_mode": {
    "name": "ipython",
    "version": 3
   },
   "file_extension": ".py",
   "mimetype": "text/x-python",
   "name": "python",
   "nbconvert_exporter": "python",
   "pygments_lexer": "ipython3",
   "version": "3.8.8"
  }
 },
 "nbformat": 4,
 "nbformat_minor": 5
}
