{
 "cells": [
  {
   "cell_type": "code",
   "execution_count": 5,
   "id": "49b08220",
   "metadata": {},
   "outputs": [],
   "source": [
    "with open(\"C:\\\\Users\\\\ABCLAB\\\\Rosalind\\\\data\\\\rosalind_subs.txt\",'r') as f:\n",
    "    line = f.readlines()\n",
    "    \n",
    "#print(line)"
   ]
  },
  {
   "cell_type": "code",
   "execution_count": 6,
   "id": "bc33a21c",
   "metadata": {},
   "outputs": [],
   "source": [
    "dna = line[0].strip()\n",
    "dna_search = line[1].strip()\n",
    "# dna = 'ababacabacaabacaabacaabc'\n",
    "# dna_search = 'abacaaba'\n",
    "loc = []"
   ]
  },
  {
   "cell_type": "code",
   "execution_count": 89,
   "id": "9a917119",
   "metadata": {},
   "outputs": [],
   "source": [
    "# Solution 1\n",
    "for i in range(len(dna)-len(dna_search)+1):\n",
    "    if str(dna[i:i+len(dna_search)]) == str(dna_search):\n",
    "        loc.append(i+1)"
   ]
  },
  {
   "cell_type": "code",
   "execution_count": 3,
   "id": "9a77248b",
   "metadata": {},
   "outputs": [],
   "source": [
    "# Solution 2\n",
    "def failure_fuc(pattern):\n",
    "    lps = list(map(int,'0' * \n",
    "                   len(pattern)))\n",
    "    \n",
    "    j = 0\n",
    "    for i in range(1, len(pattern)):\n",
    "        while (j > 0) & (pattern[i] != pattern[j]):\n",
    "            j = j-1                             # lps[j-1] 아니겠지\n",
    "        if pattern[i] == pattern[j]:\n",
    "            j += 1\n",
    "            lps[i] = j\n",
    "        # j=0 이고 안맞는다면 그냥 다음 루프로 넘어감\n",
    "    return lps\n",
    "\n",
    "def KMP(ref, pattern):\n",
    "    j = 0\n",
    "    idx = []\n",
    "    lps = failure_fuc(pattern)\n",
    "    for i in range(len(dna)):\n",
    "        #print(i,' ', j)\n",
    "        while (dna[i] != dna_search[j]) & (j > 0):\n",
    "            j = lps[j-1]\n",
    "        \n",
    "        if dna[i] == dna_search[j]:\n",
    "                j += 1\n",
    "        if j == len(dna_search):  ## 이 경우가 문자열과 패턴이 완전히 일치되는 경우 밖에 없기 때문에 위의 if 문에 들어가도 됨\n",
    "                idx.append(i-len(dna_search)+2)\n",
    "                j = lps[j-1]\n",
    "                \n",
    "    return idx"
   ]
  },
  {
   "cell_type": "code",
   "execution_count": 100,
   "id": "b7c145f8",
   "metadata": {},
   "outputs": [
    {
     "name": "stdout",
     "output_type": "stream",
     "text": [
      "4 11 18 25 41 84 100 107 151 195 202 209 228 235 270 297 304 363 370 391 407 457 485 541 548 564 620 636 665 672 701 728 790 849 865\n"
     ]
    }
   ],
   "source": [
    "print(*KMP(dna, dna_search))"
   ]
  },
  {
   "cell_type": "code",
   "execution_count": 94,
   "id": "3e5fbc3a",
   "metadata": {},
   "outputs": [
    {
     "name": "stdout",
     "output_type": "stream",
     "text": [
      "4 11 18 25 41 84 100 107 151 195 202 209 228 235 270 297 304 363 370 391 407 457 485 541 548 564 620 636 665 672 701 728 790 849 865\n"
     ]
    }
   ],
   "source": [
    "print(*loc)"
   ]
  },
  {
   "cell_type": "code",
   "execution_count": 12,
   "id": "f67718f9",
   "metadata": {},
   "outputs": [
    {
     "name": "stdout",
     "output_type": "stream",
     "text": [
      "TGTAATAACTAATAACTAATAACTAATAACTAATAACTTTAATAACTAATAACTGTCGATCGAAATAACTGGGCAATAACTACAATAACTAAATAACTGAATAACTAATAACTAACCCAATAACTTATAATAACTGTGCGTAATAACTACAATAACTAATAACTAGAAATAACTCCAATAACTTAGCATATAGTAATAACTAATAACTAATAACTAATAACTTTTAGAATAACTAATAACTAATAACTTAATAACTTAAATAACTGCGGAATAACTAATAACTTCACCTGAAAGTAAATAACTAATAACTAAATAACTGGCAATAACTAGAATAACTTAATAACTCGAAATAATAACTGACCAATAACTAATAACTAATAACTATGTCTGAATAACTAATAACTGTAATAACTAAATAACTCCGGAAATAACTTAAATAACTGTAAAATAACTATTAATAACTAATAACTCGCCAATAACTATCAATAACTAAATAACTTAATAACTCAATAACTCTAATAACTCACTATTAAATAACTTAATAACTAATAACTAATAACTCTAATAACTAATAACTCGTAATAACTCGTAATAACTGAATAACTTGTGAATAACTATGAATAACTAATAACTTGAATAACTAATAACTTTGAATAACTCCTATAATAACTAATAACTAATAACTACATCAATAACTCGTAATAACTAATAACTCAAGAATAACTGCAATAACTAAATAACTCGTAATAACTCAAAATAACTTCATGAATAACTAGAATAACTCATATCAATAACTAAATAACTTCAATAACTGAATAACTGCCCGAATAACTCAATAACTCCTACAAAATAACTAATAATCAAAATAACTAATAACTACCA\n",
      "0 0 1 0 0 1 0 0 0 1 0 0 1 0 0 0 1 0 0 1 0 0 0 1 0 0 1 0 0 0 1 0 0 1 0 0 0 1 1 1 0 0 1 0 0 0 1 0 0 1 0 0 0 1 2 3 0 0 0 1 0 0 0 0 0 1 0 0 0 1 2 2 2 0 0 0 1 0 0 0 1 0 0 0 0 1 0 0 0 1 0 0 0 1 0 0 0 1 2 0 0 1 0 0 0 1 0 0 1 0 0 0 1 0 0 0 0 0 0 0 1 0 0 0 1 1 0 1 0 0 1 0 0 0 1 2 3 2 0 0 1 0 0 1 0 0 0 1 0 0 0 0 1 0 0 0 1 0 0 1 0 0 0 1 0 0 0 0 0 1 0 0 0 1 0 0 0 0 1 0 0 0 1 1 0 0 0 0 1 0 1 0 0 1 0 0 1 0 0 0 1 0 0 1 0 0 0 1 0 0 1 0 0 0 1 0 0 1 0 0 0 1 1 1 1 0 0 0 0 1 0 0 0 1 0 0 1 0 0 0 1 0 0 1 0 0 0 1 1 0 0 1 0 0 0 1 1 0 0 0 1 0 0 0 1 2 0 0 0 0 0 1 0 0 0 1 0 0 1 0 0 0 1 1 0 0 0 0 1 2 0 0 0 0 1 0 0 0 1 0 0 0 1 0 0 1 0 0 0 1 0 0 0 1 0 0 0 1 2 2 0 0 0 1 0 0 0 1 0 0 0 0 1 0 0 0 1 1 0 0 1 0 0 0 1 0 0 0 0 0 1 0 0 1 0 0 0 1 2 0 0 0 0 0 1 0 0 0 1 0 0 1 0 0 0 1 0 0 1 0 0 0 1 0 1 2 3 0 1 2 0 0 1 0 0 0 1 0 0 1 0 0 0 1 2 3 4 5 6 7 8 9 10 11 12 12 13 14 15 16 17 16 16 2 2 0 0 0 1 0 0 0 1 1 0 0 0 1 0 0 0 1 2 3 4 5 5 5 6 7 8 9 10 11 10 10 11 12 13 14 15 16 17 18 19 20 21 22 23 24 23 2 0 0 0 0 1 0 0 0 1 0 1 0 0 0 1 0 0 0 1 0 0 0 1 0 0 0 1 1 0 0 1 0 0 0 1 0 0 0 1 0 0 0 1 0 1 0 0 1 0 0 0 1 0 0 0 1 0 1 1 0 0 0 1 0 0 0 1 1 0 0 1 0 0 0 1 0 0 1 0 0 0 1 0 0 1 0 0 0 1 0 1 0 0 1 0 0 0 1 0 0 1 0 0 0 1 0 0 1 0 0 1 0 0 0 1 0 0 1 0 0 1 0 0 0 1 2 0 0 1 0 0 0 1 1 2 3 2 0 0 1 0 0 0 1 0 1 2 0 0 1 0 0 0 1 0 0 1 0 0 0 1 1 2 0 0 1 0 0 0 1 0 0 1 0 0 0 1 1 1 2 0 0 1 0 0 0 1 0 0 1 0 1 0 0 1 0 0 0 1 0 0 1 0 0 0 1 0 0 1 0 0 0 1 0 0 0 1 0 0 0 1 0 0 0 1 0 0 1 0 0 1 0 0 0 1 0 0 1 0 0 0 1 0 0 0 0 0 0 1 0 0 0 1 2 0 0 0 1 0 0 0 1 0 0 0 1 0 0 0 1 0 0 1 0 0 1 0 0 0 1 0 0 0 0 0 1 0 0 0 1 1 0 0 1 2 0 0 1 0 0 0 1 0 0 0 0 1 0 0 0 1 0 0 1 0 1 0 0 0 1 0 0 0 1 0 0 0 1 0 0 0 1 1 0 0 0 1 0 0 0 1 2 0 0 1 0 0 0 1 2 0 0 0 0 0 0 1 0 0 0 1 0 0 0 1 0 0 0 1 0 0 1 0 0 0 0 0 0 1 0 0 0 1 0 0 1 0 0 1 0 0 0 0 0 1 0 0 0 1 0 0 1 0 0 0 1 0 0 0 0\n"
     ]
    }
   ],
   "source": [
    "print(''.join(dna))\n",
    "print(*failure_fuc(dna))"
   ]
  },
  {
   "cell_type": "code",
   "execution_count": null,
   "id": "8c3e9a42",
   "metadata": {},
   "outputs": [],
   "source": []
  }
 ],
 "metadata": {
  "kernelspec": {
   "display_name": "Python 3",
   "language": "python",
   "name": "python3"
  },
  "language_info": {
   "codemirror_mode": {
    "name": "ipython",
    "version": 3
   },
   "file_extension": ".py",
   "mimetype": "text/x-python",
   "name": "python",
   "nbconvert_exporter": "python",
   "pygments_lexer": "ipython3",
   "version": "3.8.8"
  }
 },
 "nbformat": 4,
 "nbformat_minor": 5
}
