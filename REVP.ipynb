{
 "cells": [
  {
   "cell_type": "code",
   "execution_count": 44,
   "id": "2c76f2d2",
   "metadata": {},
   "outputs": [
    {
     "name": "stdout",
     "output_type": "stream",
     "text": [
      "CGCGTGTAGATGAGTGGATGTGCAGTCACTACTGCCACGTCTCTCGTCTTCTTCGGTTGGGCGACTACTGACCCGGCTGTGGTAATCCTCCGGAAGCGGTGAGTGATCAACGCGAGGGCTGGCATAATACGTGACTTCTACTCGGACCACTTGCATTTTCCCTGCCATGTAAAGGTGCATTACTCTCCCTAACCCGCCTGTAGTATCCATTTAACGCAGGAATAAACTATGTCGGATCGTTATCCTAGAGTGCAGTGTTCCGATGGTTGAAACGTGACTGCTTTACGTCATGTCTCAAGCATCTTAGCGACGATCACAGAGACTCTAACCGTAGACTTTAAGCAGGCGCAGCGCGCAACGCGTTCTTATTAATTAGTCACGATTTGATCCTAAGAGCCCTTCTGCGGCATATCTCTTTTATCGCGCTAGCGCGGGATTAGGTTAACATTAGAGCACATATCGTATAGTGCGCACTGGCGACGCCCCACCCATTACACTGATTTTCAATACTCTGGTTCAACGGCTCCCATCTGGGGTTGTTCCGTTCACTAACTGTGACGGACGACCCGATCATTGGAACAAATAGTCCCCGGTTAGAACATTTGTTAGGCAAGGATTCATGATACCACTTTGACCAAGAAGGGATGCTATGACATCATGAGATCCTACCCTGCCTCTACTAAATGAGAGAATCCTGTCAGACAAATCACCCTTAATGACACCCGTTGCCTTCGGTATCGAGCTTGGATCAGTCGGTAGAGACAAAGAAGTTCAGCACATTGAGCTAGTTGAGCTCGACCAAGAAGAGTAAGGTCGATATTCGCTGCCGTAGCCACATGGAAACGGGGGCTATA\n"
     ]
    }
   ],
   "source": [
    "with open(\"C:\\\\Users\\\\ABCLAB\\\\Rosalind\\\\data\\\\rosalind_revp.txt\",'r') as f:\n",
    "    line = f.read().split()\n",
    "dna = ''.join(line[1:])\n",
    "print(dna)"
   ]
  },
  {
   "cell_type": "code",
   "execution_count": 45,
   "id": "86c81548",
   "metadata": {},
   "outputs": [],
   "source": [
    "def dna_rev_compliment(dna):\n",
    "    s_dna = ''\n",
    "    for i in reversed(range(len(dna))):\n",
    "        if dna[i] == 'A':\n",
    "            s_dna += 'T'\n",
    "        elif dna[i] == 'C':\n",
    "            s_dna += 'G'\n",
    "        elif dna[i] == 'T':\n",
    "            s_dna += 'A'\n",
    "        elif dna[i] == 'G':\n",
    "            s_dna += 'C'\n",
    "    \n",
    "    return s_dna"
   ]
  },
  {
   "cell_type": "code",
   "execution_count": 46,
   "id": "6adc9984",
   "metadata": {},
   "outputs": [],
   "source": [
    "def is_palindrome(seq):\n",
    "    if dna_rev_compliment(seq[:len(seq)//2]) == seq[len(seq)//2:]:\n",
    "        return True\n",
    "    else:\n",
    "        return False"
   ]
  },
  {
   "cell_type": "code",
   "execution_count": 47,
   "id": "02f96e91",
   "metadata": {},
   "outputs": [],
   "source": [
    "MIN_LEN = 4\n",
    "MAX_LEN = 12\n",
    "pos = []\n",
    "\n",
    "for i in range(len(dna)):\n",
    "    j = MIN_LEN\n",
    "    \n",
    "    while (j <= MAX_LEN) & (i + j <= len(dna)) :\n",
    "        if is_palindrome(dna[i:i+j]):\n",
    "            pos.append([i+1,j])     \n",
    "        j += 1"
   ]
  },
  {
   "cell_type": "code",
   "execution_count": 48,
   "id": "c76a0f3e",
   "metadata": {
    "collapsed": true
   },
   "outputs": [
    {
     "name": "stdout",
     "output_type": "stream",
     "text": [
      "1 4\n",
      "21 4\n",
      "37 4\n",
      "73 4\n",
      "89 6\n",
      "90 4\n",
      "104 6\n",
      "105 4\n",
      "111 4\n",
      "129 4\n",
      "152 4\n",
      "166 4\n",
      "176 4\n",
      "211 4\n",
      "235 4\n",
      "245 4\n",
      "251 4\n",
      "272 4\n",
      "285 4\n",
      "289 4\n",
      "312 4\n",
      "338 4\n",
      "346 4\n",
      "351 4\n",
      "351 6\n",
      "352 4\n",
      "353 4\n",
      "357 8\n",
      "358 6\n",
      "359 4\n",
      "368 6\n",
      "369 4\n",
      "370 6\n",
      "371 4\n",
      "386 4\n",
      "409 4\n",
      "422 4\n",
      "422 12\n",
      "423 4\n",
      "423 10\n",
      "424 8\n",
      "425 6\n",
      "426 4\n",
      "429 4\n",
      "430 4\n",
      "441 6\n",
      "442 4\n",
      "457 4\n",
      "463 4\n",
      "466 10\n",
      "467 8\n",
      "468 6\n",
      "469 4\n",
      "569 4\n",
      "590 4\n",
      "618 6\n",
      "619 4\n",
      "656 6\n",
      "657 4\n",
      "662 4\n",
      "713 4\n",
      "738 4\n",
      "741 4\n",
      "747 4\n",
      "783 4\n",
      "785 4\n",
      "791 6\n",
      "792 4\n",
      "795 4\n",
      "814 4\n",
      "817 4\n",
      "836 4\n",
      "851 4\n"
     ]
    }
   ],
   "source": [
    "for i in pos:\n",
    "    print(*i)"
   ]
  }
 ],
 "metadata": {
  "kernelspec": {
   "display_name": "Python 3",
   "language": "python",
   "name": "python3"
  },
  "language_info": {
   "codemirror_mode": {
    "name": "ipython",
    "version": 3
   },
   "file_extension": ".py",
   "mimetype": "text/x-python",
   "name": "python",
   "nbconvert_exporter": "python",
   "pygments_lexer": "ipython3",
   "version": "3.8.8"
  }
 },
 "nbformat": 4,
 "nbformat_minor": 5
}
