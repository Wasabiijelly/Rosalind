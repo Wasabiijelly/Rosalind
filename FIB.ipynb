{
 "cells": [
  {
   "cell_type": "code",
   "execution_count": 30,
   "id": "19b0d595",
   "metadata": {},
   "outputs": [],
   "source": [
    "n = 33\n",
    "k = 3"
   ]
  },
  {
   "cell_type": "code",
   "execution_count": 42,
   "id": "3d9a6257",
   "metadata": {},
   "outputs": [],
   "source": [
    "def fibonacci(i):\n",
    "    if i == 1 or i ==2:\n",
    "        return 1\n",
    "    return fibonacci(i-1) + k*fibonacci(i-2)"
   ]
  },
  {
   "cell_type": "code",
   "execution_count": 28,
   "id": "49d88223",
   "metadata": {},
   "outputs": [],
   "source": [
    "def fibonacci_bottom_up(i,pair):\n",
    "    if i == 1 or i == 2:\n",
    "        return 1\n",
    "    for i in range(i-2):\n",
    "        tmp = pair*f[0] + f[1]\n",
    "        f[0] = f[1]\n",
    "        f[1] = tmp\n",
    "        \n",
    "    return f[1]"
   ]
  },
  {
   "cell_type": "code",
   "execution_count": 43,
   "id": "db768d32",
   "metadata": {},
   "outputs": [
    {
     "name": "stdout",
     "output_type": "stream",
     "text": [
      "249650241628\n"
     ]
    }
   ],
   "source": [
    "print(fibonacci(n))"
   ]
  },
  {
   "cell_type": "code",
   "execution_count": 33,
   "id": "d71fe0fb",
   "metadata": {},
   "outputs": [
    {
     "name": "stdout",
     "output_type": "stream",
     "text": [
      "249650241628\n"
     ]
    }
   ],
   "source": [
    "f = [1,1]\n",
    "\n",
    "print(fibonacci_bottom_up(n,k))"
   ]
  }
 ],
 "metadata": {
  "kernelspec": {
   "display_name": "Python 3",
   "language": "python",
   "name": "python3"
  },
  "language_info": {
   "codemirror_mode": {
    "name": "ipython",
    "version": 3
   },
   "file_extension": ".py",
   "mimetype": "text/x-python",
   "name": "python",
   "nbconvert_exporter": "python",
   "pygments_lexer": "ipython3",
   "version": "3.8.8"
  }
 },
 "nbformat": 4,
 "nbformat_minor": 5
}
