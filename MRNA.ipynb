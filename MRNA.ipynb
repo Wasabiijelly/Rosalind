{
 "cells": [
  {
   "cell_type": "code",
   "execution_count": null,
   "id": "2afb2745",
   "metadata": {},
   "outputs": [],
   "source": [
    "# 29 mod 11 = 7 // 29를 11로 나눴을 때 나머지 7"
   ]
  }
 ],
 "metadata": {
  "kernelspec": {
   "display_name": "Python 3",
   "language": "python",
   "name": "python3"
  },
  "language_info": {
   "codemirror_mode": {
    "name": "ipython",
    "version": 3
   },
   "file_extension": ".py",
   "mimetype": "text/x-python",
   "name": "python",
   "nbconvert_exporter": "python",
   "pygments_lexer": "ipython3",
   "version": "3.8.8"
  }
 },
 "nbformat": 4,
 "nbformat_minor": 5
}
