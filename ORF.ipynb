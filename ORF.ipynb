{
 "cells": [
  {
   "cell_type": "code",
   "execution_count": 38,
   "id": "1644bc24",
   "metadata": {},
   "outputs": [
    {
     "name": "stdout",
     "output_type": "stream",
     "text": [
      "GAAAACTCACAGTTGGATTACCTACTGTATTAATTAAGGTGGCCGGCTGCTTTTGGTGGGCATACATTGCAATAAGAAAGCCGTGAGCAACAAATTTGCCGCGCGTCAAAGACGCCAACGGAATAGTATGATAACGACGGCAACTGGGTAAGTATGAGTAGAGGGGACCCCTACTGCTAGGGAGGGACTGTCCTGTATCTCTGAGGGTTACAAATCTGCGCAGACTTTACCAGATAGGGAGCCACGGTAAGCCCCTCCAGAGACTCTCTTACTCTGTTCATGCGATTACACGCTGCGAATGAGAGGCTGCTGGCACCCGATCGGTACGTGGCAACCTACTGCCCATGGGCTTGGTCGGCATTGTAAGCAGATGGTCTTCCCCCTTCCACATTGAGGTAAGTGGACCTTGTAGGCCGTTTTGTTAAAGACATCAAGGCTCGCAGCAATGAGACATCTGCCCCGGGTGTGAGACTGAACTTAGCTAAGTTCAGTCTCACACCCGGGGCAGATGTCTCATGCAGTAGTGCCTCCCTCTGTGCCCCGTTTAACCGTATTGAATTTCATAGCGAGGACATGGGTGTTTATCCTATAGAGATAGCGTTATTACTACAGAGCATAAAATAACGTGTTAGCGACGCACTGCCTTCGAACACGGGACGGAAGCTCTGGGTTCTCGAATTCGGGCTAGCAGAGTACTATCGGGTGGGTCTGGCAATTTGAACACGATGCTAGATACCAGACTTTGCCCCGACGATTCGCTAGGAGTCACTGGTATAAGATTATCTTAGCACCTTGTTACGCATGGGAGGAATAAGTCGGTGCGTGCTAGCGGATGGCACCAGTTTATAGAACACAACTCTCTGCGAGCATAGGACCATAGTCGTTCTATTTCACCGGACCCCTTTTTTCCCCGAGGTATGTCTTCACTTACTGTCGTCGTCCGTCTCATCAAACATCAGAAG\n"
     ]
    }
   ],
   "source": [
    "with open(\"C:\\\\Users\\\\ABCLAB\\\\Rosalind\\\\data\\\\rosalind_orf.txt\",'r') as f:\n",
    "    line = f.read().split()\n",
    "    \n",
    "dna = ''.join(line[1:])\n",
    "print(dna)"
   ]
  },
  {
   "cell_type": "code",
   "execution_count": 39,
   "id": "4094ce30",
   "metadata": {
    "scrolled": true
   },
   "outputs": [],
   "source": [
    "with open(\"C:\\\\Users\\\\ABCLAB\\\\Rosalind\\\\data\\\\rna_codon_table.txt\",'r') as f:\n",
    "    codon_table_f = f.read().split()\n",
    "    \n",
    "codon_table = {codon_table_f[i]:codon_table_f[i+1] for i in range(0,len(codon_table_f),2)}\n",
    "# print(codon_table)"
   ]
  },
  {
   "cell_type": "markdown",
   "id": "896528ae",
   "metadata": {},
   "source": [
    "## DNA to RNA"
   ]
  },
  {
   "cell_type": "code",
   "execution_count": 40,
   "id": "5aa152d5",
   "metadata": {
    "scrolled": true
   },
   "outputs": [],
   "source": [
    "def dna_to_rna(dna):\n",
    "    rna = dna.replace('T','U')\n",
    "    return rna"
   ]
  },
  {
   "cell_type": "markdown",
   "id": "a643f9f6",
   "metadata": {},
   "source": [
    "## DNA to reverse complement DNA"
   ]
  },
  {
   "cell_type": "code",
   "execution_count": 41,
   "id": "076106f9",
   "metadata": {},
   "outputs": [],
   "source": [
    "def dna_to_reverse(dna):\n",
    "    s_dna = []\n",
    "    for i in reversed(range(len(dna))):\n",
    "        if dna[i] == 'A':\n",
    "            s_dna.append('T') \n",
    "        elif dna[i] == 'C':\n",
    "            s_dna.append('G') \n",
    "        elif dna[i] == 'T':\n",
    "            s_dna.append('A') \n",
    "        elif dna[i] == 'G':\n",
    "            s_dna.append('C')\n",
    "    \n",
    "    return ''.join(s_dna)"
   ]
  },
  {
   "cell_type": "code",
   "execution_count": 42,
   "id": "f9e4905c",
   "metadata": {},
   "outputs": [],
   "source": [
    "def rna_splices(rna):\n",
    "    start_idx = []\n",
    "    \n",
    "    i=0\n",
    "    while (i < len(rna)) and (len(rna[i:i+3]) == 3):\n",
    "        val = codon_table[rna[i:i+3]]\n",
    "        if val == 'M':\n",
    "            start_idx.append(i)\n",
    "            i += 3\n",
    "        i += 1\n",
    "    \n",
    "    rna_splices = []\n",
    "    i = 0\n",
    "    j = 0\n",
    "    # print(start_idx)\n",
    "    for i in start_idx:\n",
    "        j=0\n",
    "        tmp = ''\n",
    "        while (j < len(rna)) and (len(rna[i+j:i+j+3]) == 3):\n",
    "            val = codon_table[rna[i+j:i+j+3]]\n",
    "            j += 3\n",
    "            if val == 'Stop':\n",
    "                tmp += '&'    # if rna transcription is stopped by stop sign, it will be marked with'&'\n",
    "                break\n",
    "            tmp += val\n",
    "            \n",
    "        rna_splices.append(tmp)\n",
    "    \n",
    "    return rna_splices"
   ]
  },
  {
   "cell_type": "code",
   "execution_count": 43,
   "id": "15fe9359",
   "metadata": {
    "scrolled": true
   },
   "outputs": [],
   "source": [
    "rna = dna_to_rna(dna)\n",
    "rev_rna = dna_to_rna(dna_to_reverse(dna))\n",
    "# print(rna)\n",
    "# print(rev_rna)"
   ]
  },
  {
   "cell_type": "code",
   "execution_count": 44,
   "id": "b7de65e6",
   "metadata": {},
   "outputs": [
    {
     "name": "stdout",
     "output_type": "stream",
     "text": [
      "['MITTATG&', 'MSRGDPYC&', 'MRLHAANERLLAPDRYVATYCPWAWSAL&', 'MRGCWHPIGTWQPTAHGLGRHCKQMVFPLPH&', 'MGLVGIVSRWSSPFHIEVSGPCRPFC&', 'MVFPLPH&', 'MRHLPRV&', 'MSHAVVPPSVPRLTVLNFIARTWVFIL&', 'MQ&', 'MGVYPIEIALLLQSIK&', 'MLDTRLCPDDSLGVTGIRLS&', 'MGGISRCVLADGTSL&', 'MAPVYRTQLSASIGP&', 'MSSLTVVVRLIKHQK']\n",
      "['MFDETDDDSK&', 'MRRTTTVSEDIPRGKKGSGEIERLWSYARRELCSINWCHPLARTDLFLPCVTRC&', 'MVLCSQRVVFYKLVPSASTHRLIPPMRNKVLR&', 'MLAESCVL&', 'MRNKVLR&', 'MLCSNNAISIG&', 'MSSL&', 'MKFNTVKRGTEGGTTA&', 'MRHLPRV&', 'MSHCCEP&', 'MSLTKRPTRSTYLNVEGGRPSAYNADQAHGQ&', 'MWKGEDHLLTMPTKPMGSRLPRTDRVPAASHSQRVIA&', 'MPTKPMGSRLPRTDRVPAASHSQRVIA&', 'MGSRLPRTDRVPAASHSQRVIA&', 'MNRVRESLEGLTVAPYLVKSAQICNPQRYRTVPP&', 'MYAHQKQPATLINTVGNPTVSF', 'MPTKSSRPP&']\n"
     ]
    }
   ],
   "source": [
    "print(rna_splices(rna))\n",
    "print(rna_splices(rev_rna))"
   ]
  },
  {
   "cell_type": "code",
   "execution_count": 45,
   "id": "c0d09750",
   "metadata": {},
   "outputs": [
    {
     "name": "stdout",
     "output_type": "stream",
     "text": [
      "['MITTATG&', 'MSRGDPYC&', 'MRLHAANERLLAPDRYVATYCPWAWSAL&', 'MRGCWHPIGTWQPTAHGLGRHCKQMVFPLPH&', 'MGLVGIVSRWSSPFHIEVSGPCRPFC&', 'MVFPLPH&', 'MRHLPRV&', 'MSHAVVPPSVPRLTVLNFIARTWVFIL&', 'MQ&', 'MGVYPIEIALLLQSIK&', 'MLDTRLCPDDSLGVTGIRLS&', 'MGGISRCVLADGTSL&', 'MAPVYRTQLSASIGP&', 'MSSLTVVVRLIKHQK', 'MFDETDDDSK&', 'MRRTTTVSEDIPRGKKGSGEIERLWSYARRELCSINWCHPLARTDLFLPCVTRC&', 'MVLCSQRVVFYKLVPSASTHRLIPPMRNKVLR&', 'MLAESCVL&', 'MRNKVLR&', 'MLCSNNAISIG&', 'MSSL&', 'MKFNTVKRGTEGGTTA&', 'MRHLPRV&', 'MSHCCEP&', 'MSLTKRPTRSTYLNVEGGRPSAYNADQAHGQ&', 'MWKGEDHLLTMPTKPMGSRLPRTDRVPAASHSQRVIA&', 'MPTKPMGSRLPRTDRVPAASHSQRVIA&', 'MGSRLPRTDRVPAASHSQRVIA&', 'MNRVRESLEGLTVAPYLVKSAQICNPQRYRTVPP&', 'MYAHQKQPATLINTVGNPTVSF', 'MPTKSSRPP&']\n",
      "['MITTATG', 'MSRGDPYC', 'MRLHAANERLLAPDRYVATYCPWAWSAL', 'MRGCWHPIGTWQPTAHGLGRHCKQMVFPLPH', 'MGLVGIVSRWSSPFHIEVSGPCRPFC', 'MVFPLPH', 'MRHLPRV', 'MSHAVVPPSVPRLTVLNFIARTWVFIL', 'MQ', 'MGVYPIEIALLLQSIK', 'MLDTRLCPDDSLGVTGIRLS', 'MGGISRCVLADGTSL', 'MAPVYRTQLSASIGP', 'MFDETDDDSK', 'MRRTTTVSEDIPRGKKGSGEIERLWSYARRELCSINWCHPLARTDLFLPCVTRC', 'MVLCSQRVVFYKLVPSASTHRLIPPMRNKVLR', 'MLAESCVL', 'MRNKVLR', 'MLCSNNAISIG', 'MSSL', 'MKFNTVKRGTEGGTTA', 'MRHLPRV', 'MSHCCEP', 'MSLTKRPTRSTYLNVEGGRPSAYNADQAHGQ', 'MWKGEDHLLTMPTKPMGSRLPRTDRVPAASHSQRVIA', 'MPTKPMGSRLPRTDRVPAASHSQRVIA', 'MGSRLPRTDRVPAASHSQRVIA', 'MNRVRESLEGLTVAPYLVKSAQICNPQRYRTVPP', 'MPTKSSRPP']\n",
      "{'MITTATG', 'MRLHAANERLLAPDRYVATYCPWAWSAL', 'MPTKSSRPP', 'MGLVGIVSRWSSPFHIEVSGPCRPFC', 'MSRGDPYC', 'MSSL', 'MNRVRESLEGLTVAPYLVKSAQICNPQRYRTVPP', 'MSLTKRPTRSTYLNVEGGRPSAYNADQAHGQ', 'MRRTTTVSEDIPRGKKGSGEIERLWSYARRELCSINWCHPLARTDLFLPCVTRC', 'MKFNTVKRGTEGGTTA', 'MRNKVLR', 'MLAESCVL', 'MQ', 'MSHCCEP', 'MLCSNNAISIG', 'MWKGEDHLLTMPTKPMGSRLPRTDRVPAASHSQRVIA', 'MRGCWHPIGTWQPTAHGLGRHCKQMVFPLPH', 'MGSRLPRTDRVPAASHSQRVIA', 'MPTKPMGSRLPRTDRVPAASHSQRVIA', 'MGVYPIEIALLLQSIK', 'MGGISRCVLADGTSL', 'MVFPLPH', 'MAPVYRTQLSASIGP', 'MRHLPRV', 'MFDETDDDSK', 'MLDTRLCPDDSLGVTGIRLS', 'MSHAVVPPSVPRLTVLNFIARTWVFIL', 'MVLCSQRVVFYKLVPSASTHRLIPPMRNKVLR'}\n"
     ]
    }
   ],
   "source": [
    "res = rna_splices(rna) + rna_splices(rev_rna)\n",
    "print(res)\n",
    "res = [res[i].strip('&') for i in range(len(res)) if res[i][-1] == '&']\n",
    "print(res)\n",
    "res = set(res)\n",
    "print(res)"
   ]
  },
  {
   "cell_type": "code",
   "execution_count": 46,
   "id": "e77f0c6b",
   "metadata": {},
   "outputs": [
    {
     "name": "stdout",
     "output_type": "stream",
     "text": [
      "MITTATG\n",
      "MRLHAANERLLAPDRYVATYCPWAWSAL\n",
      "MPTKSSRPP\n",
      "MGLVGIVSRWSSPFHIEVSGPCRPFC\n",
      "MSRGDPYC\n",
      "MSSL\n",
      "MNRVRESLEGLTVAPYLVKSAQICNPQRYRTVPP\n",
      "MSLTKRPTRSTYLNVEGGRPSAYNADQAHGQ\n",
      "MRRTTTVSEDIPRGKKGSGEIERLWSYARRELCSINWCHPLARTDLFLPCVTRC\n",
      "MKFNTVKRGTEGGTTA\n",
      "MRNKVLR\n",
      "MLAESCVL\n",
      "MQ\n",
      "MSHCCEP\n",
      "MLCSNNAISIG\n",
      "MWKGEDHLLTMPTKPMGSRLPRTDRVPAASHSQRVIA\n",
      "MRGCWHPIGTWQPTAHGLGRHCKQMVFPLPH\n",
      "MGSRLPRTDRVPAASHSQRVIA\n",
      "MPTKPMGSRLPRTDRVPAASHSQRVIA\n",
      "MGVYPIEIALLLQSIK\n",
      "MGGISRCVLADGTSL\n",
      "MVFPLPH\n",
      "MAPVYRTQLSASIGP\n",
      "MRHLPRV\n",
      "MFDETDDDSK\n",
      "MLDTRLCPDDSLGVTGIRLS\n",
      "MSHAVVPPSVPRLTVLNFIARTWVFIL\n",
      "MVLCSQRVVFYKLVPSASTHRLIPPMRNKVLR\n"
     ]
    }
   ],
   "source": [
    "print(*res, sep = '\\n')"
   ]
  },
  {
   "cell_type": "code",
   "execution_count": null,
   "id": "6d638b5a",
   "metadata": {},
   "outputs": [],
   "source": []
  },
  {
   "cell_type": "code",
   "execution_count": null,
   "id": "c834de42",
   "metadata": {},
   "outputs": [],
   "source": []
  }
 ],
 "metadata": {
  "kernelspec": {
   "display_name": "Python 3",
   "language": "python",
   "name": "python3"
  },
  "language_info": {
   "codemirror_mode": {
    "name": "ipython",
    "version": 3
   },
   "file_extension": ".py",
   "mimetype": "text/x-python",
   "name": "python",
   "nbconvert_exporter": "python",
   "pygments_lexer": "ipython3",
   "version": "3.8.8"
  }
 },
 "nbformat": 4,
 "nbformat_minor": 5
}
