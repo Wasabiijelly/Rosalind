{
 "cells": [
  {
   "cell_type": "code",
   "execution_count": 15,
   "id": "b84b181e",
   "metadata": {},
   "outputs": [],
   "source": [
    "## E(x1 + x2 + x3 + x4 + x5 + x6) = E(x1) + E(x2) + E(x3) + E(x4) + E(x5) + E(x6)\n",
    "## E(x41 + x42 ... x4n) = E(x41) + E(x42) + ... + Ex(4n)\n",
    "\n",
    "with open(\"C:\\\\Users\\\\ABCLAB\\\\Rosalind\\\\data\\\\rosalind_iev.txt\",'r') as f:\n",
    "    line = f.read().split()\n",
    "\n",
    "line = list(map(int,line))"
   ]
  },
  {
   "cell_type": "code",
   "execution_count": 12,
   "id": "726cddfb",
   "metadata": {},
   "outputs": [
    {
     "name": "stdout",
     "output_type": "stream",
     "text": [
      "[2, 2, 2, 1.5, 1.0, 0]\n"
     ]
    }
   ],
   "source": [
    "formula = [2,2,2,3/4 * 2,1/2 * 2,0]"
   ]
  },
  {
   "cell_type": "code",
   "execution_count": 13,
   "id": "46812f6b",
   "metadata": {},
   "outputs": [
    {
     "name": "stdout",
     "output_type": "stream",
     "text": [
      "[37740, 32438, 38222, 28093.5, 17297.0, 0]\n"
     ]
    }
   ],
   "source": [
    "result = [line[i] * formula[i] for i in range(len(line))]"
   ]
  },
  {
   "cell_type": "code",
   "execution_count": 14,
   "id": "50e170e4",
   "metadata": {},
   "outputs": [
    {
     "name": "stdout",
     "output_type": "stream",
     "text": [
      "153790.5\n"
     ]
    }
   ],
   "source": [
    "print(sum(result))"
   ]
  }
 ],
 "metadata": {
  "kernelspec": {
   "display_name": "Python 3",
   "language": "python",
   "name": "python3"
  },
  "language_info": {
   "codemirror_mode": {
    "name": "ipython",
    "version": 3
   },
   "file_extension": ".py",
   "mimetype": "text/x-python",
   "name": "python",
   "nbconvert_exporter": "python",
   "pygments_lexer": "ipython3",
   "version": "3.8.8"
  }
 },
 "nbformat": 4,
 "nbformat_minor": 5
}
