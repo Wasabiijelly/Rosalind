{
 "cells": [
  {
   "cell_type": "code",
   "execution_count": 18,
   "id": "42add086",
   "metadata": {},
   "outputs": [],
   "source": [
    "n = 6\n",
    "k = 1\n",
    "m = 3"
   ]
  },
  {
   "cell_type": "code",
   "execution_count": 19,
   "id": "51fd4143",
   "metadata": {},
   "outputs": [],
   "source": [
    "def fibonacci(i):\n",
    "    if i == 1 or i ==2:\n",
    "        return 1\n",
    "    return fibonacci(i-1) + k*fibonacci(i-2)"
   ]
  },
  {
   "cell_type": "code",
   "execution_count": 21,
   "id": "db75b500",
   "metadata": {},
   "outputs": [
    {
     "name": "stdout",
     "output_type": "stream",
     "text": [
      "3\n"
     ]
    }
   ],
   "source": [
    "print(fibonacci(n)-fibonacci(n-m+1+1))"
   ]
  },
  {
   "cell_type": "code",
   "execution_count": null,
   "id": "cbf43436",
   "metadata": {},
   "outputs": [],
   "source": []
  }
 ],
 "metadata": {
  "kernelspec": {
   "display_name": "Python 3",
   "language": "python",
   "name": "python3"
  },
  "language_info": {
   "codemirror_mode": {
    "name": "ipython",
    "version": 3
   },
   "file_extension": ".py",
   "mimetype": "text/x-python",
   "name": "python",
   "nbconvert_exporter": "python",
   "pygments_lexer": "ipython3",
   "version": "3.8.8"
  }
 },
 "nbformat": 4,
 "nbformat_minor": 5
}
