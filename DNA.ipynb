{
 "cells": [
  {
   "cell_type": "code",
   "execution_count": 17,
   "id": "aa89996a",
   "metadata": {},
   "outputs": [
    {
     "name": "stdout",
     "output_type": "stream",
     "text": [
      "CTTGGTACGCGAAGCGTTTGCATGTCGGAAATATACAGCGTTATCGATAAACGTTATGAGTTGTAATCTGCACCCTTGCAATCCACATTTCCAAGGTGGGGCGGAGTCCTTTCCTCGGTTTACGGGGGCTAGCAATTAATTCCAACTGTTGCACTTATTGAGGAGCCTCCGGGTACGTAATTAAGAGGCGAGCAGCTGCTGGGGGGACGGCGGCGGCCTTACCTATTCACACTCGGCGAGCCTGAGGGAATTCCCGATTCCCCATGTAAACCGAGGATTGCTATTTTTTGCGCCTAGCATTATGCAGTGAGCGACCCAAGTATCCCGTGTCACCCCCTGGCACTGGTCTCATCACCACACTATGGGTCATGGAGTGTAGAAGACGATTCGATCTCCGTCTCACCCGACCTTGAGTCATCTTTTAGAATATGTACAGCTGCCTTGGGACGCCTGGACAGCCCTTGTGGCTACAGTTCCGATGGGGTCGACGGCCTATCTCAGACTCGCAGCAATTGTGCAAGTCCCAAATGGCGCAACCTGTCAGGACCGAGTGCGTCGGCGTTTCCCCGGTTAACGTAATAGGTGCCGAGATAGACCCCGAAGGATAAAGATACAAGGATTAAGCCCCATTCAACGAATGCTGACGACACACCCTGGCTGGGAGCCGGGGTCAATTCCTGCCCTAAAGCATGGACCGGGCGCCAACGTGGCCCTCTCCTCAGATATTGAATTACCGAAAGTGGGGAACAGCGCGGACTTCGCCCGGCGGGCTAGTCTAGTATTCGACCGAACCGGATTTCTGCGGGTCTTTAACGGACCTCACCTGCGAGGTCTAGGCGCGTGAACTCCCTGCTGGCGCACTTGAAACACTATAACCAGTTAATGGTTGTAGCAGTATATACCATTCCAGCTTTCGTG\n",
      "\n"
     ]
    }
   ],
   "source": [
    "with open(\"C:\\\\Users\\\\ABCLAB\\\\Rosalind\\\\data\\\\rosalind_dna.txt\",'r') as f:\n",
    "    line = f.readline()\n",
    "    \n",
    "print(line)\n"
   ]
  },
  {
   "cell_type": "code",
   "execution_count": 18,
   "id": "2edf82f6",
   "metadata": {},
   "outputs": [
    {
     "data": {
      "text/plain": [
       "str"
      ]
     },
     "execution_count": 18,
     "metadata": {},
     "output_type": "execute_result"
    }
   ],
   "source": [
    "type(line)"
   ]
  },
  {
   "cell_type": "code",
   "execution_count": 19,
   "id": "09bfd6fc",
   "metadata": {},
   "outputs": [],
   "source": [
    "cnt_a = 0\n",
    "cnt_c = 0\n",
    "cnt_g = 0\n",
    "cnt_t = 0"
   ]
  },
  {
   "cell_type": "code",
   "execution_count": 20,
   "id": "33cf37da",
   "metadata": {},
   "outputs": [],
   "source": [
    "for i in range(len(line)):\n",
    "    if line[i] == 'A':\n",
    "        cnt_a += 1\n",
    "    elif line[i] == 'C':\n",
    "        cnt_c += 1\n",
    "    elif line[i] == 'G':\n",
    "        cnt_g += 1\n",
    "    elif line[i] == 'T':\n",
    "        cnt_t +=1"
   ]
  },
  {
   "cell_type": "code",
   "execution_count": 21,
   "id": "50b5dbf9",
   "metadata": {},
   "outputs": [
    {
     "name": "stdout",
     "output_type": "stream",
     "text": [
      "208   247   245   218\n"
     ]
    }
   ],
   "source": [
    "print(cnt_a,' ',cnt_c,' ',cnt_g,' ',cnt_t)"
   ]
  }
 ],
 "metadata": {
  "kernelspec": {
   "display_name": "Python 3",
   "language": "python",
   "name": "python3"
  },
  "language_info": {
   "codemirror_mode": {
    "name": "ipython",
    "version": 3
   },
   "file_extension": ".py",
   "mimetype": "text/x-python",
   "name": "python",
   "nbconvert_exporter": "python",
   "pygments_lexer": "ipython3",
   "version": "3.8.8"
  }
 },
 "nbformat": 4,
 "nbformat_minor": 5
}
