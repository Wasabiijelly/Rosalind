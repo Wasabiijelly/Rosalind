{
 "cells": [
  {
   "cell_type": "code",
   "execution_count": 4,
   "id": "f31dd2be",
   "metadata": {},
   "outputs": [],
   "source": [
    "from itertools import combinations"
   ]
  },
  {
   "cell_type": "code",
   "execution_count": 10,
   "id": "8e6adc75",
   "metadata": {},
   "outputs": [],
   "source": [
    "k = 5\n",
    "n = 7\n",
    "n_org = 2**k"
   ]
  },
  {
   "cell_type": "code",
   "execution_count": 2,
   "id": "4faebce1",
   "metadata": {},
   "outputs": [],
   "source": [
    "AaBb = 1/4\n",
    "AaBb_not = 3/4"
   ]
  },
  {
   "cell_type": "code",
   "execution_count": 11,
   "id": "55b424e8",
   "metadata": {},
   "outputs": [
    {
     "name": "stdout",
     "output_type": "stream",
     "text": [
      "0.722128334617797\n"
     ]
    }
   ],
   "source": [
    "organism = [i for i in range (1,2**k + 1)]\n",
    "sum_p = 0\n",
    "\n",
    "for i in range(0,n ):\n",
    "    sum_p += (AaBb)**i * (AaBb_not**(n_org-i)) * len(list(combinations(organism, i))) \n",
    "    \n",
    "print(1 - sum_p)"
   ]
  }
 ],
 "metadata": {
  "kernelspec": {
   "display_name": "Python 3",
   "language": "python",
   "name": "python3"
  },
  "language_info": {
   "codemirror_mode": {
    "name": "ipython",
    "version": 3
   },
   "file_extension": ".py",
   "mimetype": "text/x-python",
   "name": "python",
   "nbconvert_exporter": "python",
   "pygments_lexer": "ipython3",
   "version": "3.8.8"
  }
 },
 "nbformat": 4,
 "nbformat_minor": 5
}
