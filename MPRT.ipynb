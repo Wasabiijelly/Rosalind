{
 "cells": [
  {
   "cell_type": "code",
   "execution_count": 4,
   "id": "c8e12923",
   "metadata": {},
   "outputs": [],
   "source": [
    "import requests as req"
   ]
  },
  {
   "cell_type": "markdown",
   "id": "e4b913f5",
   "metadata": {},
   "source": [
    "## Get ID"
   ]
  },
  {
   "cell_type": "code",
   "execution_count": 80,
   "id": "94d88a7f",
   "metadata": {},
   "outputs": [
    {
     "name": "stdout",
     "output_type": "stream",
     "text": [
      "['P10646', 'P01374', 'P29460', 'P04278', 'P01047', 'A4J5V5', 'P04141', 'A4TI59', 'P01217', 'Q7TMB8', 'B9LIC8', 'P17404', 'P04180', 'P01787', 'B8GYE3']\n"
     ]
    }
   ],
   "source": [
    "with open(\"C:\\\\Users\\\\ABCLAB\\\\Rosalind\\\\data\\\\rosalind_mprt.txt\",'r') as f:\n",
    "    line = f.readlines()\n",
    "    \n",
    "line_id = [line[i].split('_')[0].rstrip() for i in range(len(line))]\n",
    "#print(line_id)"
   ]
  },
  {
   "cell_type": "markdown",
   "id": "42011a4d",
   "metadata": {},
   "source": [
    "## Download .fasta files"
   ]
  },
  {
   "cell_type": "code",
   "execution_count": 81,
   "id": "238d0a65",
   "metadata": {},
   "outputs": [],
   "source": [
    "for i in range(len(line_id)):\n",
    "    fasta = req.get('http://www.uniprot.org/uniprot/'+line_id[i]+'.fasta', allow_redirects = True)\n",
    "    with open('C:/Users/ABCLAB/Rosalind/data/MPRT_fasta/'+line_id[i]+'.fasta','wb') as f:\n",
    "        f.write(fasta.content)"
   ]
  },
  {
   "cell_type": "markdown",
   "id": "20c5037e",
   "metadata": {},
   "source": [
    "## Get sequences from .fasta files"
   ]
  },
  {
   "cell_type": "code",
   "execution_count": 82,
   "id": "8ce73cf3",
   "metadata": {},
   "outputs": [],
   "source": [
    "seq = ['']\n",
    "for i in range(len(line_id)):\n",
    "    with open('C:/Users/ABCLAB/Rosalind/data/MPRT_fasta/'+line_id[i]+'.fasta','r') as f:\n",
    "        temp = f.readlines()\n",
    "        for content in temp:\n",
    "            if content[0] == '>':\n",
    "                continue\n",
    "            seq[i] += content.strip()\n",
    "    seq[i] = ''.join(seq[i:])\n",
    "    seq.append('')\n",
    "\n",
    "seq = seq[:-1]\n",
    "# print(seq)\n",
    "# print(len(seq))"
   ]
  },
  {
   "cell_type": "markdown",
   "id": "84a292f5",
   "metadata": {},
   "source": [
    "## Get location of N-glycosylation motif"
   ]
  },
  {
   "cell_type": "code",
   "execution_count": 83,
   "id": "804e01f3",
   "metadata": {},
   "outputs": [],
   "source": [
    "loc=[[]]\n",
    "for i in range(len(line_id)):\n",
    "    for j in range(len(seq[i])-3):\n",
    "        if (seq[i][j] == 'N') & (seq[i][j+1] != 'P') & ((seq[i][j+2] == 'S') | (seq[i][j+2] == 'T')) & (seq[i][j+3] != 'P'):\n",
    "            loc[i].append(str(j+1))\n",
    "    loc.append([])\n",
    "\n",
    "loc = loc[:-1]\n",
    "#print(loc)"
   ]
  },
  {
   "cell_type": "markdown",
   "id": "8d263857",
   "metadata": {},
   "source": [
    "## Show output"
   ]
  },
  {
   "cell_type": "code",
   "execution_count": 84,
   "id": "2d5337d4",
   "metadata": {},
   "outputs": [
    {
     "name": "stdout",
     "output_type": "stream",
     "text": [
      "P10646_TFPI_HUMAN\n",
      "145 195 256\n",
      "P01374_TNFB_HUMAN\n",
      "96\n",
      "P29460_I12B_HUMAN\n",
      "125 135 222 303\n",
      "P04278_SSBP_HUMAN\n",
      "380 396\n",
      "P01047_KNL2_BOVIN\n",
      "47 87 168 169 197 204 280\n",
      "A4J5V5\n",
      "24 38 230\n",
      "P04141_CSF2_HUMAN\n",
      "44 54\n",
      "P01217_GLHA_BOVIN\n",
      "80 106\n",
      "Q7TMB8\n",
      "209 291 328 442 607 672 831 858\n",
      "P17404_CHM1_BOVIN\n",
      "244\n",
      "P04180_LCAT_HUMAN\n",
      "44 108 296 408\n"
     ]
    }
   ],
   "source": [
    "for i in range(len(line_id)):\n",
    "    if len(loc[i]) == 0:\n",
    "        continue\n",
    "    print(line[i].strip())\n",
    "    print(' '.join(loc[i]),end = '')\n",
    "    print()"
   ]
  },
  {
   "cell_type": "code",
   "execution_count": null,
   "id": "82f3e0ee",
   "metadata": {},
   "outputs": [],
   "source": []
  }
 ],
 "metadata": {
  "kernelspec": {
   "display_name": "Python 3",
   "language": "python",
   "name": "python3"
  },
  "language_info": {
   "codemirror_mode": {
    "name": "ipython",
    "version": 3
   },
   "file_extension": ".py",
   "mimetype": "text/x-python",
   "name": "python",
   "nbconvert_exporter": "python",
   "pygments_lexer": "ipython3",
   "version": "3.8.8"
  }
 },
 "nbformat": 4,
 "nbformat_minor": 5
}
