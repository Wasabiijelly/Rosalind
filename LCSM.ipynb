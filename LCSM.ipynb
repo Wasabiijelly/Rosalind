{
 "cells": [
  {
   "cell_type": "code",
   "execution_count": 3,
   "id": "97f62d30",
   "metadata": {},
   "outputs": [],
   "source": [
    "with open(\"C:\\\\Users\\\\ABCLAB\\\\Rosalind\\\\data\\\\rosalind_lcsm_1.txt\",'r') as f:\n",
    "    line = f.readlines()"
   ]
  },
  {
   "cell_type": "code",
   "execution_count": 4,
   "id": "74445ba7",
   "metadata": {},
   "outputs": [],
   "source": [
    "id_idx = []\n",
    "\n",
    "for i in range(len(line)):\n",
    "    if line[i].find('>') != -1:\n",
    "        id_idx.append(i)"
   ]
  },
  {
   "cell_type": "code",
   "execution_count": 5,
   "id": "132089cb",
   "metadata": {},
   "outputs": [
    {
     "name": "stdout",
     "output_type": "stream",
     "text": [
      "['GATTACA', 'TAGACCA', 'ATACA']\n"
     ]
    }
   ],
   "source": [
    "dna_str = []\n",
    "\n",
    "for i in range(len(id_idx)-1):\n",
    "    dna_str.append(''.join(line[id_idx[i]+1:id_idx[i+1]]))\n",
    "\n",
    "dna_str.append(''.join(line[id_idx[len(id_idx)-1]+1:len(line)]))\n",
    "\n",
    "for i in range(len(dna_str)):\n",
    "    dna_str[i] = dna_str[i].replace('\\n',\"\")\n",
    "print(dna_str)"
   ]
  },
  {
   "cell_type": "code",
   "execution_count": 6,
   "id": "4afe3d52",
   "metadata": {},
   "outputs": [
    {
     "name": "stdout",
     "output_type": "stream",
     "text": [
      "['Rosalind_1', 'Rosalind_2', 'Rosalind_3']\n"
     ]
    }
   ],
   "source": [
    "dna_id = [line[id_idx[i]].strip('>').strip() for i in range(len(id_idx))]\n",
    "print(dna_id)"
   ]
  },
  {
   "cell_type": "code",
   "execution_count": 8,
   "id": "34abcb52",
   "metadata": {},
   "outputs": [],
   "source": [
    "def failure_fuc(pattern):\n",
    "    lps = list(map(int,'0' * \n",
    "                   len(pattern)))\n",
    "    \n",
    "    j = 0\n",
    "    for i in range(1, len(pattern)):\n",
    "        while (j > 0) & (pattern[i] != pattern[j]):\n",
    "            j = j-1                             # lps[j-1] 아니겠지\n",
    "        if pattern[i] == pattern[j]:\n",
    "            j += 1\n",
    "            lps[i] = j\n",
    "        # j=0 이고 안맞는다면 그냥 다음 루프로 넘어감\n",
    "    return lps\n",
    "\n",
    "def KMP(ref, pattern):\n",
    "    j = 0\n",
    "    idx = []\n",
    "    lps = failure_fuc(pattern)\n",
    "    for i in range(len(ref)):\n",
    "        #print(i,' ', j)\n",
    "        while (ref[i] != pattern[j]) & (j > 0):\n",
    "            j = lps[j-1]\n",
    "        \n",
    "        if ref[i] == pattern[j]:\n",
    "                j += 1\n",
    "        if j == len(pattern):  ## 이 경우가 문자열과 패턴이 완전히 일치되는 경우 밖에 없기 때문에 위의 if 문에 들어가도 됨\n",
    "                idx.append(i-len(pattern)+2)\n",
    "                j = lps[j-1]\n",
    "                \n",
    "    return idx"
   ]
  },
  {
   "cell_type": "code",
   "execution_count": 9,
   "id": "e3a6691f",
   "metadata": {},
   "outputs": [
    {
     "name": "stdout",
     "output_type": "stream",
     "text": [
      "\n"
     ]
    }
   ],
   "source": [
    "print(*KMP(dna_str[0], dna_str[1]))"
   ]
  },
  {
   "cell_type": "code",
   "execution_count": null,
   "id": "fa8c94ec",
   "metadata": {},
   "outputs": [],
   "source": []
  }
 ],
 "metadata": {
  "kernelspec": {
   "display_name": "Python 3",
   "language": "python",
   "name": "python3"
  },
  "language_info": {
   "codemirror_mode": {
    "name": "ipython",
    "version": 3
   },
   "file_extension": ".py",
   "mimetype": "text/x-python",
   "name": "python",
   "nbconvert_exporter": "python",
   "pygments_lexer": "ipython3",
   "version": "3.8.8"
  }
 },
 "nbformat": 4,
 "nbformat_minor": 5
}
